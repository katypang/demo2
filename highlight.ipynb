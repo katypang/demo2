{
 "cells": [
  {
   "cell_type": "code",
   "execution_count": 24,
   "metadata": {},
   "outputs": [],
   "source": [
    "import fitz\n",
    "import os"
   ]
  },
  {
   "cell_type": "code",
   "execution_count": 25,
   "metadata": {},
   "outputs": [],
   "source": [
    "input=\"C:\\\\pythoncode\\\\Inputs\\\\TableExtraction\\\\21704700 - CRB_Notice_to_Proceed - Amendment _2 - TCR2 09MAY2022 - Final for Signature(44255785.1).pdf\""
   ]
  },
  {
   "cell_type": "code",
   "execution_count": 26,
   "metadata": {},
   "outputs": [],
   "source": [
    "outputpath = 'C:\\\\pythoncode\\\\Outputs\\\\TableExtraction'"
   ]
  },
  {
   "cell_type": "code",
   "execution_count": 27,
   "metadata": {},
   "outputs": [],
   "source": [
    "doc=fitz.open(input)"
   ]
  },
  {
   "cell_type": "code",
   "execution_count": 28,
   "metadata": {},
   "outputs": [],
   "source": [
    "needles = ['• Funding continuance for CRB Design, Construction Administration (CA) to process submittals and perform other CA duties through and including August 2022.',\n",
    "           'TCR2 will compensate CRB on a Time and Expense basis using CRB’s standard billing rates plus a 3.00% fee and 1.00% CG&L insurance on costs, other than design, for the proper and timely performance of the Additional Services and delivery of any deliverables in an additional amount not to exceed TWENTY-EIGHT MILLION THREE HUNDRED SEVENTY-FOUR THOUSAND TWENTY-SEVEN DOLLARS AND ZERO CENTS ($28,374,027.00). The sum of the Initial Authorized Amount (NTP)']"
   ]
  },
  {
   "cell_type": "code",
   "execution_count": 29,
   "metadata": {},
   "outputs": [],
   "source": [
    "for needle in needles:\n",
    "    page=doc[1]\n",
    "    rects = page.search_for(needle)\n",
    "    if rects:\n",
    "        p1=rects[0].tl\n",
    "        p2=rects[-1].br\n",
    "        page.add_highlight_annot(start=p1,stop=p2)\n",
    "        doc.save(os.path.join(outputpath,'modified doc.pdf'))"
   ]
  }
 ],
 "metadata": {
  "kernelspec": {
   "display_name": "Python 3",
   "language": "python",
   "name": "python3"
  },
  "language_info": {
   "codemirror_mode": {
    "name": "ipython",
    "version": 3
   },
   "file_extension": ".py",
   "mimetype": "text/x-python",
   "name": "python",
   "nbconvert_exporter": "python",
   "pygments_lexer": "ipython3",
   "version": "3.10.4"
  }
 },
 "nbformat": 4,
 "nbformat_minor": 2
}
